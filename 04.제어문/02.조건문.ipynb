{
 "cells": [
  {
   "cell_type": "code",
   "execution_count": 2,
   "metadata": {},
   "outputs": [],
   "source": [
    "origin_pass = \"1234\"\n",
    "input_pass = input()\n",
    "if origin_pass == input_pass : \n",
    "    print(\"로그인성공\")"
   ]
  },
  {
   "cell_type": "code",
   "execution_count": 3,
   "metadata": {},
   "outputs": [
    {
     "name": "stdout",
     "output_type": "stream",
     "text": [
      "로그인 실패\n"
     ]
    }
   ],
   "source": [
    "origin_pass = \"1234\"\n",
    "input_pass = input()\n",
    "if origin_pass == input_pass : \n",
    "    print(\"로그인성공\")\n",
    "else: \n",
    "    print(\"로그인 실패\")"
   ]
  },
  {
   "cell_type": "code",
   "execution_count": null,
   "metadata": {},
   "outputs": [],
   "source": [
    "origin_pass = \"1234\"\n",
    "input_pass = input()\n",
    "if origin_pass == input_pass : \n",
    "    print(\"로그인성공\")\n",
    "elif input_pass == \"\":\n",
    "    print(\"비밀번호를 입력하세요\")\n",
    "else: \n",
    "    print(\"로그인 실패\")"
   ]
  }
 ],
 "metadata": {
  "kernelspec": {
   "display_name": "Python 3",
   "language": "python",
   "name": "python3"
  },
  "language_info": {
   "codemirror_mode": {
    "name": "ipython",
    "version": 3
   },
   "file_extension": ".py",
   "mimetype": "text/x-python",
   "name": "python",
   "nbconvert_exporter": "python",
   "pygments_lexer": "ipython3",
   "version": "3.12.6"
  }
 },
 "nbformat": 4,
 "nbformat_minor": 2
}
