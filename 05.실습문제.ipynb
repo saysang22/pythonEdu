{
 "cells": [
  {
   "cell_type": "code",
   "execution_count": 1,
   "metadata": {},
   "outputs": [],
   "source": [
    "#01\n",
    "name = \"유미\"\n",
    "level = 6\n",
    "energe = 950\n",
    "talk = \"나랑 유미랑!\""
   ]
  },
  {
   "cell_type": "code",
   "execution_count": null,
   "metadata": {},
   "outputs": [
    {
     "name": "stdout",
     "output_type": "stream",
     "text": [
      "유미 6 950 나랑 유미랑!\n"
     ]
    }
   ],
   "source": [
    "print(name, level, energe, talk)"
   ]
  },
  {
   "cell_type": "code",
   "execution_count": 8,
   "metadata": {},
   "outputs": [
    {
     "name": "stdout",
     "output_type": "stream",
     "text": [
      "받아라 몬스터볼~! 파이리 넌 내꺼야!\n",
      "받아라 몬스터볼~! 파이리 넌 내꺼야!\n"
     ]
    }
   ],
   "source": [
    "#02\n",
    "pname = input()\n",
    "print(\"받아라 몬스터볼~!\", pname, \"넌 내꺼야!\")\n",
    "print(f\"받아라 몬스터볼~! {pname} 넌 내꺼야!\")"
   ]
  },
  {
   "cell_type": "code",
   "execution_count": 5,
   "metadata": {},
   "outputs": [
    {
     "name": "stdout",
     "output_type": "stream",
     "text": [
      "이름:  이상해씨\n",
      "레벨:  8\n"
     ]
    }
   ],
   "source": [
    "#03\n",
    "p_name_output = \"포켓몬 이름을 입력하세요: \" \n",
    "p_level_output = \"레벨을 입력하세요: \"\n",
    "p_name_input = input(p_name_output)\n",
    "p_level_input = input(p_level_output)\n",
    "\n",
    "print(\"이름: \", p_name_input)\n",
    "print(\"레벨: \",p_level_input)"
   ]
  },
  {
   "cell_type": "code",
   "execution_count": 14,
   "metadata": {},
   "outputs": [
    {
     "name": "stdout",
     "output_type": "stream",
     "text": [
      "수익창출 가능\n",
      "1000\n"
     ]
    }
   ],
   "source": [
    "#04\n",
    "subscriber = 1000\n",
    "input_subscriber = int(input(\"입력\"))\n",
    "\n",
    "if subscriber <= input_subscriber:\n",
    "    print(\"수익창출 가능\")\n",
    "else:\n",
    "    print(\"수익창출 불가능\")\n",
    "\n",
    "print(input_subscriber)"
   ]
  },
  {
   "cell_type": "code",
   "execution_count": 15,
   "metadata": {},
   "outputs": [
    {
     "name": "stdout",
     "output_type": "stream",
     "text": [
      "휴대폰을 30분간 사용가능합니다.\n"
     ]
    }
   ],
   "source": [
    "#05\n",
    "study_time = int(input(\"공부시간을 입력하세요(시간)\"))\n",
    "\n",
    "if study_time >= 10:\n",
    "    print(\"휴대폰 잠금이 해제 됩니다.\")\n",
    "elif study_time >= 5:\n",
    "    print(\"휴대폰을 30분간 사용가능합니다.\")\n",
    "else:\n",
    "    print(\"휴대폰 사용이 불가능합니다.\")"
   ]
  },
  {
   "cell_type": "code",
   "execution_count": 3,
   "metadata": {},
   "outputs": [
    {
     "name": "stdout",
     "output_type": "stream",
     "text": [
      "1번째 강아지\n",
      "강아지를 위한 장난감 준비중\n",
      "장난감 준비 완료\n",
      "\n",
      "2번째 강아지\n",
      "강아지를 위한 장난감 준비중\n",
      "장난감 준비 완료\n",
      "\n",
      "3번째 강아지\n",
      "강아지를 위한 장난감 준비중\n",
      "장난감 준비 완료\n",
      "\n"
     ]
    }
   ],
   "source": [
    "#06\n",
    "for i in range(3):\n",
    "    print(f\"{i + 1}번째 강아지\")\n",
    "    print(\"강아지를 위한 장난감 준비중\")\n",
    "    print(\"장난감 준비 완료\\n\")"
   ]
  },
  {
   "cell_type": "code",
   "execution_count": 18,
   "metadata": {},
   "outputs": [
    {
     "name": "stdout",
     "output_type": "stream",
     "text": [
      "55\n"
     ]
    }
   ],
   "source": [
    "#07\n",
    "total = 0\n",
    "for i in range(10):\n",
    "    total += (i + 1)\n",
    "print(total)"
   ]
  },
  {
   "cell_type": "code",
   "execution_count": 35,
   "metadata": {},
   "outputs": [
    {
     "name": "stdout",
     "output_type": "stream",
     "text": [
      "5 * 1 = 5\n",
      "5 * 2 = 10\n",
      "5 * 3 = 15\n",
      "5 * 4 = 20\n",
      "5 * 5 = 25\n",
      "5 * 6 = 30\n",
      "5 * 7 = 35\n",
      "5 * 8 = 40\n",
      "5 * 9 = 45\n"
     ]
    }
   ],
   "source": [
    "#08\n",
    "input_val_01 = int(input(\"몇 단을 출력할까요?: \"))\n",
    "result = 0\n",
    "for i in range(1, 10):\n",
    "    result = input_val_01 * i\n",
    "    print(f\"{input_val_01} * {i} = {result}\")"
   ]
  },
  {
   "cell_type": "code",
   "execution_count": null,
   "metadata": {},
   "outputs": [
    {
     "name": "stdout",
     "output_type": "stream",
     "text": [
      "5 * 1 = 5\n",
      "5 * 2 = 10\n",
      "5 * 3 = 15\n",
      "5 * 4 = 20\n",
      "5 * 5 = 25\n",
      "5 * 6 = 30\n",
      "5 * 7 = 35\n",
      "5 * 8 = 40\n",
      "5 * 9 = 45\n"
     ]
    }
   ],
   "source": [
    "#08\n",
    "input_val_02 = int(input(\"몇 단을 출력할까요?\"))\n",
    "i = 1\n",
    "result = 0\n",
    "\n",
    "while i < 10:\n",
    "    result = input_val_02 * i\n",
    "    print(f\"{input_val_02} * {i} = {result}\")\n",
    "    i += 1"
   ]
  },
  {
   "cell_type": "code",
   "execution_count": null,
   "metadata": {},
   "outputs": [],
   "source": [
    "#09\n",
    "val_input = int(intput(\"비밀번호를 입력하세요: \"))"
   ]
  }
 ],
 "metadata": {
  "kernelspec": {
   "display_name": "Python 3",
   "language": "python",
   "name": "python3"
  },
  "language_info": {
   "codemirror_mode": {
    "name": "ipython",
    "version": 3
   },
   "file_extension": ".py",
   "mimetype": "text/x-python",
   "name": "python",
   "nbconvert_exporter": "python",
   "pygments_lexer": "ipython3",
   "version": "3.12.6"
  }
 },
 "nbformat": 4,
 "nbformat_minor": 2
}
