{
 "cells": [
  {
   "cell_type": "code",
   "execution_count": 1,
   "metadata": {},
   "outputs": [],
   "source": [
    "#01\n",
    "name = \"유미\"\n",
    "level = 6\n",
    "energe = 950\n",
    "talk = \"나랑 유미랑!\""
   ]
  },
  {
   "cell_type": "code",
   "execution_count": null,
   "metadata": {},
   "outputs": [
    {
     "name": "stdout",
     "output_type": "stream",
     "text": [
      "유미 6 950 나랑 유미랑!\n"
     ]
    }
   ],
   "source": [
    "print(name, level, energe, talk)"
   ]
  },
  {
   "cell_type": "code",
   "execution_count": 8,
   "metadata": {},
   "outputs": [
    {
     "name": "stdout",
     "output_type": "stream",
     "text": [
      "받아라 몬스터볼~! 파이리 넌 내꺼야!\n",
      "받아라 몬스터볼~! 파이리 넌 내꺼야!\n"
     ]
    }
   ],
   "source": [
    "#02\n",
    "pname = input()\n",
    "print(\"받아라 몬스터볼~!\", pname, \"넌 내꺼야!\")\n",
    "print(f\"받아라 몬스터볼~! {pname} 넌 내꺼야!\")"
   ]
  },
  {
   "cell_type": "code",
   "execution_count": 5,
   "metadata": {},
   "outputs": [
    {
     "name": "stdout",
     "output_type": "stream",
     "text": [
      "이름:  이상해씨\n",
      "레벨:  8\n"
     ]
    }
   ],
   "source": [
    "#03\n",
    "p_name_output = \"포켓몬 이름을 입력하세요: \" \n",
    "p_level_output = \"레벨을 입력하세요: \"\n",
    "p_name_input = input(p_name_output)\n",
    "p_level_input = input(p_level_output)\n",
    "\n",
    "print(\"이름: \", p_name_input)\n",
    "print(\"레벨: \",p_level_input)"
   ]
  },
  {
   "cell_type": "code",
   "execution_count": null,
   "metadata": {},
   "outputs": [
    {
     "name": "stdout",
     "output_type": "stream",
     "text": [
      "수익 창출 가능\n",
      "10\n"
     ]
    }
   ],
   "source": [
    "#04\n",
    "subscriber = 1000\n",
    "input_subscriber = int(input(\"입력\"))\n",
    "\n",
    "if subscriber <= input_subscriber:\n",
    "    print(\"수익창출 가능\")\n",
    "else:\n",
    "    print(\"수익창출 불가능\")\n",
    "\n",
    "print(input_subscriber)"
   ]
  },
  {
   "cell_type": "code",
   "execution_count": null,
   "metadata": {},
   "outputs": [],
   "source": []
  }
 ],
 "metadata": {
  "kernelspec": {
   "display_name": "Python 3",
   "language": "python",
   "name": "python3"
  },
  "language_info": {
   "codemirror_mode": {
    "name": "ipython",
    "version": 3
   },
   "file_extension": ".py",
   "mimetype": "text/x-python",
   "name": "python",
   "nbconvert_exporter": "python",
   "pygments_lexer": "ipython3",
   "version": "3.12.6"
  }
 },
 "nbformat": 4,
 "nbformat_minor": 2
}
